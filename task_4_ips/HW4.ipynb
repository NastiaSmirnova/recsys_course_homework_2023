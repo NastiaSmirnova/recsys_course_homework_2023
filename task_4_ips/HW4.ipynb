{
 "cells": [
  {
   "cell_type": "code",
   "execution_count": 1,
   "id": "01c6df16",
   "metadata": {},
   "outputs": [],
   "source": [
    "import pandas as pd\n",
    "import numpy as np\n",
    "import datetime\n",
    "import scipy\n",
    "import matplotlib.pyplot as plt\n",
    "import seaborn as sns\n",
    "\n",
    "from IPython.display import display, HTML\n",
    "from sklearn.preprocessing import OneHotEncoder\n",
    "from sklearn.linear_model import LogisticRegression\n",
    "from sklearn.metrics import roc_auc_score, log_loss\n",
    "from scipy.special import logit\n",
    "from IPython.display import display, Math\n",
    "\n",
    "import warnings\n",
    "warnings.filterwarnings(\"ignore\")"
   ]
  },
  {
   "cell_type": "markdown",
   "id": "be26ed47",
   "metadata": {},
   "source": [
    "Информация по датасету:\n",
    "\n",
    "* date_time - время показа рекламы\n",
    "* oaid_hash - хэш юзера\n",
    "* zone_id - id зоны, где зона - место на сайте для размещения рекламы\n",
    "* banner_id - id баннера, где баннер - сама реклама\n",
    "* campaign_clicks - общее количество показов данной кампании (которой соотвествует баннер) данному юзеру, произошедшие до текущего показа. Кампанию стоит понимать как что-то общее (рекламодатель/тематика/ и т. п.) для баннеров.\n",
    "* os_id - id операционной системы\n",
    "* country_id - id страны\n",
    "* banner_id0 - нулевой баннер в “стакане” баннеров\n",
    "* banner_id1 - перый баннер в “стакане” баннеров\n",
    "* rate0 - стоимость 1 клика установленная рекламодателем для banner_id0\n",
    "* rate1 - стоимость 1 клика установленная рекламодателем для banner_id1\n",
    "* g0 - стандартное отклонение предикта с banner_id0\n",
    "* g1 - стандартное отклонение предикта с banner_id1\n",
    "* coeff_sum0 - сумма коэффициентов для banner_id0\n",
    "* coeff_sum1 - сумма коэффициентов для banner_id1\n",
    "* impressions - был ли показ\n",
    "* clicks - был ли клик\n",
    "\n",
    "\n",
    "Колонка campaign_clicks для данного задания не нужна"
   ]
  },
  {
   "cell_type": "code",
   "execution_count": 2,
   "id": "d3b8d8c3",
   "metadata": {},
   "outputs": [
    {
     "data": {
      "text/html": [
       "<div>\n",
       "<style scoped>\n",
       "    .dataframe tbody tr th:only-of-type {\n",
       "        vertical-align: middle;\n",
       "    }\n",
       "\n",
       "    .dataframe tbody tr th {\n",
       "        vertical-align: top;\n",
       "    }\n",
       "\n",
       "    .dataframe thead th {\n",
       "        text-align: right;\n",
       "    }\n",
       "</style>\n",
       "<table border=\"1\" class=\"dataframe\">\n",
       "  <thead>\n",
       "    <tr style=\"text-align: right;\">\n",
       "      <th></th>\n",
       "      <th>date_time</th>\n",
       "      <th>zone_id</th>\n",
       "      <th>banner_id</th>\n",
       "      <th>os_id</th>\n",
       "      <th>country_id</th>\n",
       "      <th>banner_id0</th>\n",
       "      <th>g0</th>\n",
       "      <th>coeff_sum0</th>\n",
       "      <th>banner_id1</th>\n",
       "      <th>g1</th>\n",
       "      <th>coeff_sum1</th>\n",
       "      <th>clicks</th>\n",
       "    </tr>\n",
       "  </thead>\n",
       "  <tbody>\n",
       "    <tr>\n",
       "      <th>0</th>\n",
       "      <td>2021-09-27 00:01:30</td>\n",
       "      <td>0</td>\n",
       "      <td>0</td>\n",
       "      <td>0</td>\n",
       "      <td>0</td>\n",
       "      <td>1240</td>\n",
       "      <td>0.035016</td>\n",
       "      <td>-7.268846</td>\n",
       "      <td>0</td>\n",
       "      <td>0.049516</td>\n",
       "      <td>-5.369901</td>\n",
       "      <td>1</td>\n",
       "    </tr>\n",
       "    <tr>\n",
       "      <th>1</th>\n",
       "      <td>2021-09-26 22:54:49</td>\n",
       "      <td>1</td>\n",
       "      <td>1</td>\n",
       "      <td>0</td>\n",
       "      <td>1</td>\n",
       "      <td>1</td>\n",
       "      <td>0.054298</td>\n",
       "      <td>-2.657477</td>\n",
       "      <td>269</td>\n",
       "      <td>0.031942</td>\n",
       "      <td>-4.449220</td>\n",
       "      <td>1</td>\n",
       "    </tr>\n",
       "    <tr>\n",
       "      <th>2</th>\n",
       "      <td>2021-09-26 23:57:20</td>\n",
       "      <td>2</td>\n",
       "      <td>2</td>\n",
       "      <td>0</td>\n",
       "      <td>0</td>\n",
       "      <td>2</td>\n",
       "      <td>0.014096</td>\n",
       "      <td>-3.824875</td>\n",
       "      <td>21</td>\n",
       "      <td>0.014906</td>\n",
       "      <td>-3.939309</td>\n",
       "      <td>1</td>\n",
       "    </tr>\n",
       "    <tr>\n",
       "      <th>3</th>\n",
       "      <td>2021-09-27 00:04:30</td>\n",
       "      <td>3</td>\n",
       "      <td>3</td>\n",
       "      <td>1</td>\n",
       "      <td>1</td>\n",
       "      <td>3</td>\n",
       "      <td>0.015232</td>\n",
       "      <td>-3.461357</td>\n",
       "      <td>99</td>\n",
       "      <td>0.050671</td>\n",
       "      <td>-3.418403</td>\n",
       "      <td>1</td>\n",
       "    </tr>\n",
       "    <tr>\n",
       "      <th>4</th>\n",
       "      <td>2021-09-27 00:06:21</td>\n",
       "      <td>4</td>\n",
       "      <td>4</td>\n",
       "      <td>1</td>\n",
       "      <td>0</td>\n",
       "      <td>4</td>\n",
       "      <td>0.051265</td>\n",
       "      <td>-4.009026</td>\n",
       "      <td>11464230</td>\n",
       "      <td>0.032005</td>\n",
       "      <td>-2.828797</td>\n",
       "      <td>1</td>\n",
       "    </tr>\n",
       "  </tbody>\n",
       "</table>\n",
       "</div>"
      ],
      "text/plain": [
       "            date_time  zone_id  banner_id  os_id  country_id  banner_id0  \\\n",
       "0 2021-09-27 00:01:30        0          0      0           0        1240   \n",
       "1 2021-09-26 22:54:49        1          1      0           1           1   \n",
       "2 2021-09-26 23:57:20        2          2      0           0           2   \n",
       "3 2021-09-27 00:04:30        3          3      1           1           3   \n",
       "4 2021-09-27 00:06:21        4          4      1           0           4   \n",
       "\n",
       "         g0  coeff_sum0  banner_id1        g1  coeff_sum1  clicks  \n",
       "0  0.035016   -7.268846           0  0.049516   -5.369901       1  \n",
       "1  0.054298   -2.657477         269  0.031942   -4.449220       1  \n",
       "2  0.014096   -3.824875          21  0.014906   -3.939309       1  \n",
       "3  0.015232   -3.461357          99  0.050671   -3.418403       1  \n",
       "4  0.051265   -4.009026    11464230  0.032005   -2.828797       1  "
      ]
     },
     "execution_count": 2,
     "metadata": {},
     "output_type": "execute_result"
    }
   ],
   "source": [
    "data = pd.read_csv('data.csv', parse_dates=['date_time'],infer_datetime_format=True)\n",
    "\n",
    "#удаляем признаки,которые не будем использовать\n",
    "columns_to_drop = ['campaign_clicks', 'rate0', 'rate1','impressions','oaid_hash']\n",
    "data.drop(columns_to_drop, axis=1, inplace = True)\n",
    "data.head()"
   ]
  },
  {
   "cell_type": "code",
   "execution_count": 3,
   "id": "b923a28b",
   "metadata": {},
   "outputs": [],
   "source": [
    "def analysis(data: pd.DataFrame):\n",
    "    feat_list = ['banner_id0','banner_id1', 'g0','g1','coeff_sum0', 'coeff_sum1']\n",
    "    font_size = \"20px\"\n",
    "    text ='Описательные характеристики'\n",
    "    print('\\n')\n",
    "    display(HTML(f\"<p style='font-size: {font_size}'>{text}</p>\"))\n",
    "\n",
    "    print('\\nЧисло пропусков в данных:')\n",
    "    display(pd.DataFrame(data[feat_list].isnull().sum()))\n",
    "\n",
    "    print('\\nЧисло уникальных значений в столбцах:')\n",
    "    display(pd.DataFrame(data[feat_list[:2]].nunique()))\n",
    "\n",
    "    print('\\nОписательные статистики:')\n",
    "    display(data[feat_list].describe())\n"
   ]
  },
  {
   "cell_type": "markdown",
   "id": "a64ca95b",
   "metadata": {},
   "source": [
    "# Проанализируем признаки, которые не рассматривались ранее"
   ]
  },
  {
   "cell_type": "code",
   "execution_count": 4,
   "id": "26c0d03a",
   "metadata": {},
   "outputs": [
    {
     "name": "stdout",
     "output_type": "stream",
     "text": [
      "\n",
      "\n"
     ]
    },
    {
     "data": {
      "text/html": [
       "<p style='font-size: 20px'>Описательные характеристики</p>"
      ],
      "text/plain": [
       "<IPython.core.display.HTML object>"
      ]
     },
     "metadata": {},
     "output_type": "display_data"
    },
    {
     "name": "stdout",
     "output_type": "stream",
     "text": [
      "\n",
      "Число пропусков в данных:\n"
     ]
    },
    {
     "data": {
      "text/html": [
       "<div>\n",
       "<style scoped>\n",
       "    .dataframe tbody tr th:only-of-type {\n",
       "        vertical-align: middle;\n",
       "    }\n",
       "\n",
       "    .dataframe tbody tr th {\n",
       "        vertical-align: top;\n",
       "    }\n",
       "\n",
       "    .dataframe thead th {\n",
       "        text-align: right;\n",
       "    }\n",
       "</style>\n",
       "<table border=\"1\" class=\"dataframe\">\n",
       "  <thead>\n",
       "    <tr style=\"text-align: right;\">\n",
       "      <th></th>\n",
       "      <th>0</th>\n",
       "    </tr>\n",
       "  </thead>\n",
       "  <tbody>\n",
       "    <tr>\n",
       "      <th>banner_id0</th>\n",
       "      <td>0</td>\n",
       "    </tr>\n",
       "    <tr>\n",
       "      <th>banner_id1</th>\n",
       "      <td>0</td>\n",
       "    </tr>\n",
       "    <tr>\n",
       "      <th>g0</th>\n",
       "      <td>69</td>\n",
       "    </tr>\n",
       "    <tr>\n",
       "      <th>g1</th>\n",
       "      <td>19744</td>\n",
       "    </tr>\n",
       "    <tr>\n",
       "      <th>coeff_sum0</th>\n",
       "      <td>69</td>\n",
       "    </tr>\n",
       "    <tr>\n",
       "      <th>coeff_sum1</th>\n",
       "      <td>19744</td>\n",
       "    </tr>\n",
       "  </tbody>\n",
       "</table>\n",
       "</div>"
      ],
      "text/plain": [
       "                0\n",
       "banner_id0      0\n",
       "banner_id1      0\n",
       "g0             69\n",
       "g1          19744\n",
       "coeff_sum0     69\n",
       "coeff_sum1  19744"
      ]
     },
     "metadata": {},
     "output_type": "display_data"
    },
    {
     "name": "stdout",
     "output_type": "stream",
     "text": [
      "\n",
      "Число уникальных значений в столбцах:\n"
     ]
    },
    {
     "data": {
      "text/html": [
       "<div>\n",
       "<style scoped>\n",
       "    .dataframe tbody tr th:only-of-type {\n",
       "        vertical-align: middle;\n",
       "    }\n",
       "\n",
       "    .dataframe tbody tr th {\n",
       "        vertical-align: top;\n",
       "    }\n",
       "\n",
       "    .dataframe thead th {\n",
       "        text-align: right;\n",
       "    }\n",
       "</style>\n",
       "<table border=\"1\" class=\"dataframe\">\n",
       "  <thead>\n",
       "    <tr style=\"text-align: right;\">\n",
       "      <th></th>\n",
       "      <th>0</th>\n",
       "    </tr>\n",
       "  </thead>\n",
       "  <tbody>\n",
       "    <tr>\n",
       "      <th>banner_id0</th>\n",
       "      <td>946937</td>\n",
       "    </tr>\n",
       "    <tr>\n",
       "      <th>banner_id1</th>\n",
       "      <td>3160859</td>\n",
       "    </tr>\n",
       "  </tbody>\n",
       "</table>\n",
       "</div>"
      ],
      "text/plain": [
       "                  0\n",
       "banner_id0   946937\n",
       "banner_id1  3160859"
      ]
     },
     "metadata": {},
     "output_type": "display_data"
    },
    {
     "name": "stdout",
     "output_type": "stream",
     "text": [
      "\n",
      "Описательные статистики:\n"
     ]
    },
    {
     "data": {
      "text/html": [
       "<div>\n",
       "<style scoped>\n",
       "    .dataframe tbody tr th:only-of-type {\n",
       "        vertical-align: middle;\n",
       "    }\n",
       "\n",
       "    .dataframe tbody tr th {\n",
       "        vertical-align: top;\n",
       "    }\n",
       "\n",
       "    .dataframe thead th {\n",
       "        text-align: right;\n",
       "    }\n",
       "</style>\n",
       "<table border=\"1\" class=\"dataframe\">\n",
       "  <thead>\n",
       "    <tr style=\"text-align: right;\">\n",
       "      <th></th>\n",
       "      <th>banner_id0</th>\n",
       "      <th>banner_id1</th>\n",
       "      <th>g0</th>\n",
       "      <th>g1</th>\n",
       "      <th>coeff_sum0</th>\n",
       "      <th>coeff_sum1</th>\n",
       "    </tr>\n",
       "  </thead>\n",
       "  <tbody>\n",
       "    <tr>\n",
       "      <th>count</th>\n",
       "      <td>1.582147e+07</td>\n",
       "      <td>1.582147e+07</td>\n",
       "      <td>1.582140e+07</td>\n",
       "      <td>1.580173e+07</td>\n",
       "      <td>1.582140e+07</td>\n",
       "      <td>1.580173e+07</td>\n",
       "    </tr>\n",
       "    <tr>\n",
       "      <th>mean</th>\n",
       "      <td>6.571314e+05</td>\n",
       "      <td>2.605069e+06</td>\n",
       "      <td>7.440764e-01</td>\n",
       "      <td>5.485722e-01</td>\n",
       "      <td>-3.979590e+00</td>\n",
       "      <td>-3.968883e+00</td>\n",
       "    </tr>\n",
       "    <tr>\n",
       "      <th>std</th>\n",
       "      <td>2.606008e+06</td>\n",
       "      <td>5.230253e+06</td>\n",
       "      <td>1.670358e+01</td>\n",
       "      <td>1.419136e+01</td>\n",
       "      <td>1.143982e+00</td>\n",
       "      <td>1.186403e+00</td>\n",
       "    </tr>\n",
       "    <tr>\n",
       "      <th>min</th>\n",
       "      <td>0.000000e+00</td>\n",
       "      <td>0.000000e+00</td>\n",
       "      <td>-1.763740e-02</td>\n",
       "      <td>-6.983897e-02</td>\n",
       "      <td>-8.588970e+00</td>\n",
       "      <td>-9.562188e+00</td>\n",
       "    </tr>\n",
       "    <tr>\n",
       "      <th>25%</th>\n",
       "      <td>7.300000e+01</td>\n",
       "      <td>9.900000e+01</td>\n",
       "      <td>1.643856e-02</td>\n",
       "      <td>1.615219e-02</td>\n",
       "      <td>-4.515871e+00</td>\n",
       "      <td>-4.529519e+00</td>\n",
       "    </tr>\n",
       "    <tr>\n",
       "      <th>50%</th>\n",
       "      <td>3.030000e+02</td>\n",
       "      <td>4.600000e+02</td>\n",
       "      <td>3.539307e-02</td>\n",
       "      <td>3.556666e-02</td>\n",
       "      <td>-3.921164e+00</td>\n",
       "      <td>-3.928674e+00</td>\n",
       "    </tr>\n",
       "    <tr>\n",
       "      <th>75%</th>\n",
       "      <td>7.200000e+02</td>\n",
       "      <td>1.236000e+03</td>\n",
       "      <td>8.022935e-02</td>\n",
       "      <td>7.546751e-02</td>\n",
       "      <td>-3.421280e+00</td>\n",
       "      <td>-3.390867e+00</td>\n",
       "    </tr>\n",
       "    <tr>\n",
       "      <th>max</th>\n",
       "      <td>1.146423e+07</td>\n",
       "      <td>1.462360e+07</td>\n",
       "      <td>6.910888e+02</td>\n",
       "      <td>6.910885e+02</td>\n",
       "      <td>3.149981e-01</td>\n",
       "      <td>4.756181e-01</td>\n",
       "    </tr>\n",
       "  </tbody>\n",
       "</table>\n",
       "</div>"
      ],
      "text/plain": [
       "         banner_id0    banner_id1            g0            g1    coeff_sum0  \\\n",
       "count  1.582147e+07  1.582147e+07  1.582140e+07  1.580173e+07  1.582140e+07   \n",
       "mean   6.571314e+05  2.605069e+06  7.440764e-01  5.485722e-01 -3.979590e+00   \n",
       "std    2.606008e+06  5.230253e+06  1.670358e+01  1.419136e+01  1.143982e+00   \n",
       "min    0.000000e+00  0.000000e+00 -1.763740e-02 -6.983897e-02 -8.588970e+00   \n",
       "25%    7.300000e+01  9.900000e+01  1.643856e-02  1.615219e-02 -4.515871e+00   \n",
       "50%    3.030000e+02  4.600000e+02  3.539307e-02  3.556666e-02 -3.921164e+00   \n",
       "75%    7.200000e+02  1.236000e+03  8.022935e-02  7.546751e-02 -3.421280e+00   \n",
       "max    1.146423e+07  1.462360e+07  6.910888e+02  6.910885e+02  3.149981e-01   \n",
       "\n",
       "         coeff_sum1  \n",
       "count  1.580173e+07  \n",
       "mean  -3.968883e+00  \n",
       "std    1.186403e+00  \n",
       "min   -9.562188e+00  \n",
       "25%   -4.529519e+00  \n",
       "50%   -3.928674e+00  \n",
       "75%   -3.390867e+00  \n",
       "max    4.756181e-01  "
      ]
     },
     "metadata": {},
     "output_type": "display_data"
    }
   ],
   "source": [
    "analysis(data)"
   ]
  },
  {
   "cell_type": "markdown",
   "id": "750c1eea",
   "metadata": {},
   "source": [
    "Из анализа видим, что в новых признаках:\n",
    "* появляются пропуски\n",
    "* есть кейсы, где стандартное отклонение меньше нуля, что странно"
   ]
  },
  {
   "cell_type": "code",
   "execution_count": 5,
   "id": "a139b0cc",
   "metadata": {},
   "outputs": [],
   "source": [
    "def feature_engineering(data: pd.DataFrame) -> pd.DataFrame:\n",
    "    # фильтруем по условию, чтобы banner_id0 совпадал с banner_id\n",
    "    data = data[data['banner_id0'] == data['banner_id']]\n",
    "    # фильтруем данные где ст.откл. меньше нуля\n",
    "    data = data[(data['g0'] > 0) & (data['g1'] > 0)]\n",
    "    # убираем пропуски в данных\n",
    "    data = data.dropna()\n",
    "    # убираем дату с 1 действием\n",
    "    data = data[~(data.date_time.dt.date == datetime.date(2021, 9, 1))]\n",
    "    # выделяем дату\n",
    "    data['date'] = data.date_time.dt.date\n",
    "    # выделяем день недели\n",
    "    data['day_of_week'] = data.date_time.dt.dayofweek\n",
    "    # выделяем время дня\n",
    "    data['hour'] = data.date_time.dt.hour\n",
    "    # сгруппируем часы в промежутки дня утро, день, вечер, ночь (утро с 6 до 12, обед с 12 до 18, вечер с 18 до 24, ночь с 24 до 6)\n",
    "    bins = [0, 6, 12, 18,  24]\n",
    "    labels = ['Ночь', 'Утро', 'Обед', 'Вечер'] \n",
    "    data['time_of_day'] = pd.cut(data['hour'], bins=bins, labels=labels, right=False)\n",
    "    \n",
    "    \n",
    "    #Деление на train-test\n",
    "    \n",
    "    # выделяем последний день на test, все остальное на train\n",
    "    train_data = data[(data.date < datetime.date(2021,10, 2))] \n",
    "    test_data = data[(data.date == datetime.date(2021,10, 2))] \n",
    "    \n",
    "    # выделяем категориальные признаки\n",
    "\n",
    "    categ_feat = ['zone_id', 'os_id', 'country_id','banner_id','hour','day_of_week','time_of_day']\n",
    "\n",
    "    encoder = OneHotEncoder(drop='first', sparse=True, handle_unknown='ignore')\n",
    "\n",
    "    X_train = encoder.fit_transform(train_data[categ_feat])\n",
    "    y_train = train_data['clicks']\n",
    "\n",
    "    # Тестовые данные для случая, где banner_id == banner_id0\n",
    "    X_test_0 = encoder.transform(test_data[categ_feat])\n",
    "    y_test_0 = test_data['clicks']\n",
    "\n",
    "    # Тестовые данные для случая, где banner_id == banner_id1\n",
    "    X_test_1 = test_data[categ_feat]\n",
    "    X_test_1['banner_id'] = test_data['banner_id1']\n",
    "    X_test_1 = encoder.transform(X_test_1)\n",
    "    y_test_1 = test_data['clicks']\n",
    "    \n",
    "    data_ips = test_data[['g0','g1','coeff_sum0', 'coeff_sum1']]\n",
    "    \n",
    "    return X_train, y_train, X_test_0, y_test_0, X_test_1, y_test_1, data_ips"
   ]
  },
  {
   "cell_type": "code",
   "execution_count": 6,
   "id": "e9e9b2df",
   "metadata": {},
   "outputs": [],
   "source": [
    "X_train, y_train, X_test_0, y_test_0, X_test_1, y_test_1, data_ips = feature_engineering(data)"
   ]
  },
  {
   "cell_type": "markdown",
   "id": "2e26b86d",
   "metadata": {},
   "source": [
    "## Применяем модель логистической регрессии"
   ]
  },
  {
   "cell_type": "code",
   "execution_count": 7,
   "id": "8ab37a0d",
   "metadata": {},
   "outputs": [
    {
     "name": "stdout",
     "output_type": "stream",
     "text": [
      "Результаты линейной модели:\n",
      "Log Loss: 0.14310167026745282\n",
      "ROC AUC: 0.7517467835131204\n"
     ]
    }
   ],
   "source": [
    "model = LogisticRegression(solver=\"liblinear\", penalty=\"l2\", C=0.0001)\n",
    "model.fit(X_train, y_train)\n",
    "\n",
    "y_pred = model.predict_proba(X_test_0)[:, 1]\n",
    "\n",
    "print('Результаты линейной модели:')\n",
    "print(\"Log Loss:\", log_loss(y_test_0, y_pred))\n",
    "print(\"ROC AUC:\", roc_auc_score(y_test_0, y_pred))"
   ]
  },
  {
   "cell_type": "markdown",
   "id": "6cc10147",
   "metadata": {},
   "source": [
    "## Clipped IPS"
   ]
  },
  {
   "cell_type": "markdown",
   "id": "bc7ac0ce",
   "metadata": {},
   "source": [
    "Для того, чтобы посчитать вероятность показа баннера, оценим вероятность:\n",
    "$P(X_0 > X_1) = P(X_0 - X_1 > 0) = 1 - P(X_0 - X_1 < 0) = 1 - F_{X_0 - X_1}(0) $\n",
    "\n",
    "Имеем:\n",
    "$X_0 \\sim N(\\text{coeff_sum0}, g0^2), X_1 \\sim N(\\text{coeff_sum1}, g1^2)$\n",
    "\n",
    "Тогда:\n",
    "$X_0 - X_1  \\sim N(\\text{coeff_sum0 - coeff_sum1}, g0^2 + g1^2)$"
   ]
  },
  {
   "cell_type": "code",
   "execution_count": 8,
   "id": "6256c4ef",
   "metadata": {},
   "outputs": [],
   "source": [
    "# Функция для подсчета вероятности\n",
    "def get_probability(coeff_sum0, coeff_sum1, g0, g1):\n",
    "    mean = coeff_sum0 - coeff_sum1\n",
    "    # берем квадрат дисперсии, поскольку надо подставить ст.откл + добавляем 1e-6, чтобы избежать деления на 0\n",
    "    std = np.sqrt(g0**2 + g1**2) + 1e-6 \n",
    "    return 1 - scipy.stats.norm.cdf(0, loc=mean, scale=std)"
   ]
  },
  {
   "cell_type": "code",
   "execution_count": 9,
   "id": "46c60efd",
   "metadata": {},
   "outputs": [],
   "source": [
    "y_pred_0 = model.predict_proba(X_test_0)[:, 1] \n",
    "y_pred_1 = model.predict_proba(X_test_1)[:, 1] \n",
    "\n",
    "pi_0 = get_probability(data_ips[\"coeff_sum0\"], data_ips[\"coeff_sum1\"], data_ips[\"g0\"], data_ips[\"g1\"])\n",
    "pi_1 = get_probability(logit(y_pred_0), logit(y_pred_1), data_ips[\"g0\"], data_ips[\"g1\"])"
   ]
  },
  {
   "cell_type": "code",
   "execution_count": 10,
   "id": "8000542e",
   "metadata": {},
   "outputs": [],
   "source": [
    "def get_V_cips(y_test, pi_0, pi_1, lamda):\n",
    "    return np.mean(y_test * np.minimum(pi_1 / (pi_0 + 1e-6), lamda))"
   ]
  },
  {
   "cell_type": "code",
   "execution_count": 11,
   "id": "db6b9573",
   "metadata": {},
   "outputs": [
    {
     "data": {
      "text/latex": [
       "$\\displaystyle \\hat{V}_{CIPS} =0.07555728749988451$"
      ],
      "text/plain": [
       "<IPython.core.display.Math object>"
      ]
     },
     "metadata": {},
     "output_type": "display_data"
    }
   ],
   "source": [
    "lamda = 10\n",
    "cips = get_V_cips(y_test_0, pi_0, pi_1, lamda)\n",
    "display(Math(r'$\\hat{V}_{CIPS} =' + str(cips)))"
   ]
  },
  {
   "cell_type": "markdown",
   "id": "7a577b2c",
   "metadata": {},
   "source": [
    "# Найдем оптимальную регуляризацию по метрике cips"
   ]
  },
  {
   "cell_type": "code",
   "execution_count": 12,
   "id": "c3aa195d",
   "metadata": {},
   "outputs": [
    {
     "name": "stdout",
     "output_type": "stream",
     "text": [
      "Результаты линейной модели при С = 1e-05:\n",
      "Log Loss: 0.15618691516154504\n",
      "ROC AUC: 0.6481481432352276\n",
      "V_cips: 0.0745805770032428\n",
      "\n",
      "\n",
      "Результаты линейной модели при С = 5e-05:\n",
      "Log Loss: 0.14580681838255005\n",
      "ROC AUC: 0.7362224335410936\n",
      "V_cips: 0.07522413484564369\n",
      "\n",
      "\n",
      "Результаты линейной модели при С = 0.0001:\n",
      "Log Loss: 0.14310167026745282\n",
      "ROC AUC: 0.7517467835131204\n",
      "V_cips: 0.07555728749988451\n",
      "\n",
      "\n",
      "Результаты линейной модели при С = 0.00015:\n",
      "Log Loss: 0.14184644899938217\n",
      "ROC AUC: 0.7581070355738747\n",
      "V_cips: 0.07559557889298198\n",
      "\n",
      "\n",
      "Результаты линейной модели при С = 0.001:\n",
      "Log Loss: 0.1381414198970599\n",
      "ROC AUC: 0.7800166727844006\n",
      "V_cips: 0.0722018569597602\n",
      "\n",
      "\n",
      "Результаты линейной модели при С = 0.01:\n",
      "Log Loss: 0.13615313806366316\n",
      "ROC AUC: 0.7892913337416343\n",
      "V_cips: 0.06610031232828632\n",
      "\n",
      "\n",
      "Результаты линейной модели при С = 0.1:\n",
      "Log Loss: 0.13552465240114048\n",
      "ROC AUC: 0.7911106276529268\n",
      "V_cips: 0.06430183461237396\n",
      "\n",
      "\n",
      "Результаты линейной модели при С = 0.3:\n",
      "Log Loss: 0.13542147451539427\n",
      "ROC AUC: 0.7914252215861985\n",
      "V_cips: 0.06402356406855572\n",
      "\n",
      "\n"
     ]
    }
   ],
   "source": [
    "lamda = 10\n",
    "C = [0.00001,0.00005,0.0001, 0.00015, 0.001, 0.01, 0.1, 0.3]\n",
    "df_scores = pd.DataFrame(columns=['C', 'Log Loss', 'ROC AUC', 'V_cips'])\n",
    "\n",
    "for c in C:\n",
    "    model = LogisticRegression(solver=\"liblinear\", penalty=\"l2\", C=c)\n",
    "    model.fit(X_train, y_train)\n",
    "\n",
    "    y_pred = model.predict_proba(X_test_0)[:, 1]\n",
    "    log_los = log_loss(y_test_0, y_pred)\n",
    "    roc_auc = roc_auc_score(y_test_0, y_pred)\n",
    "    y_pred_0 = model.predict_proba(X_test_0)[:, 1] \n",
    "    y_pred_1 = model.predict_proba(X_test_1)[:, 1]\n",
    "\n",
    "    pi_0 = get_probability(data_ips[\"coeff_sum0\"], data_ips[\"coeff_sum1\"], data_ips[\"g0\"], data_ips[\"g1\"])\n",
    "    pi_1 = get_probability(logit(y_pred_0), logit(y_pred_1), data_ips[\"g0\"], data_ips[\"g1\"])\n",
    "\n",
    "    cips = get_V_cips(y_test_0, pi_0, pi_1, lamda)\n",
    "\n",
    "    cur_row = [c,log_los,roc_auc,cips]\n",
    "    df_scores.loc[len(df_scores)] = cur_row\n",
    "    print(f'Результаты линейной модели при С = {c}:')\n",
    "    print(\"Log Loss:\", log_los)\n",
    "    print(\"ROC AUC:\", roc_auc)\n",
    "    print(\"V_cips:\", cips)\n",
    "    print('\\n')\n"
   ]
  },
  {
   "cell_type": "code",
   "execution_count": 13,
   "id": "77525aef",
   "metadata": {},
   "outputs": [
    {
     "data": {
      "text/html": [
       "<div>\n",
       "<style scoped>\n",
       "    .dataframe tbody tr th:only-of-type {\n",
       "        vertical-align: middle;\n",
       "    }\n",
       "\n",
       "    .dataframe tbody tr th {\n",
       "        vertical-align: top;\n",
       "    }\n",
       "\n",
       "    .dataframe thead th {\n",
       "        text-align: right;\n",
       "    }\n",
       "</style>\n",
       "<table border=\"1\" class=\"dataframe\">\n",
       "  <thead>\n",
       "    <tr style=\"text-align: right;\">\n",
       "      <th></th>\n",
       "      <th>C</th>\n",
       "      <th>Log Loss</th>\n",
       "      <th>ROC AUC</th>\n",
       "      <th>V_cips</th>\n",
       "    </tr>\n",
       "  </thead>\n",
       "  <tbody>\n",
       "    <tr>\n",
       "      <th>0</th>\n",
       "      <td>0.00001</td>\n",
       "      <td>0.156187</td>\n",
       "      <td>0.648148</td>\n",
       "      <td>0.074581</td>\n",
       "    </tr>\n",
       "    <tr>\n",
       "      <th>1</th>\n",
       "      <td>0.00005</td>\n",
       "      <td>0.145807</td>\n",
       "      <td>0.736222</td>\n",
       "      <td>0.075224</td>\n",
       "    </tr>\n",
       "    <tr>\n",
       "      <th>2</th>\n",
       "      <td>0.00010</td>\n",
       "      <td>0.143102</td>\n",
       "      <td>0.751747</td>\n",
       "      <td>0.075557</td>\n",
       "    </tr>\n",
       "    <tr>\n",
       "      <th>3</th>\n",
       "      <td>0.00015</td>\n",
       "      <td>0.141846</td>\n",
       "      <td>0.758107</td>\n",
       "      <td>0.075596</td>\n",
       "    </tr>\n",
       "    <tr>\n",
       "      <th>4</th>\n",
       "      <td>0.00100</td>\n",
       "      <td>0.138141</td>\n",
       "      <td>0.780017</td>\n",
       "      <td>0.072202</td>\n",
       "    </tr>\n",
       "    <tr>\n",
       "      <th>5</th>\n",
       "      <td>0.01000</td>\n",
       "      <td>0.136153</td>\n",
       "      <td>0.789291</td>\n",
       "      <td>0.066100</td>\n",
       "    </tr>\n",
       "    <tr>\n",
       "      <th>6</th>\n",
       "      <td>0.10000</td>\n",
       "      <td>0.135525</td>\n",
       "      <td>0.791111</td>\n",
       "      <td>0.064302</td>\n",
       "    </tr>\n",
       "    <tr>\n",
       "      <th>7</th>\n",
       "      <td>0.30000</td>\n",
       "      <td>0.135421</td>\n",
       "      <td>0.791425</td>\n",
       "      <td>0.064024</td>\n",
       "    </tr>\n",
       "  </tbody>\n",
       "</table>\n",
       "</div>"
      ],
      "text/plain": [
       "         C  Log Loss   ROC AUC    V_cips\n",
       "0  0.00001  0.156187  0.648148  0.074581\n",
       "1  0.00005  0.145807  0.736222  0.075224\n",
       "2  0.00010  0.143102  0.751747  0.075557\n",
       "3  0.00015  0.141846  0.758107  0.075596\n",
       "4  0.00100  0.138141  0.780017  0.072202\n",
       "5  0.01000  0.136153  0.789291  0.066100\n",
       "6  0.10000  0.135525  0.791111  0.064302\n",
       "7  0.30000  0.135421  0.791425  0.064024"
      ]
     },
     "metadata": {},
     "output_type": "display_data"
    },
    {
     "data": {
      "image/png": "[encoded data removed]",
      "text/plain": [
       "<Figure size 1080x360 with 3 Axes>"
      ]
     },
     "metadata": {
      "needs_background": "light"
     },
     "output_type": "display_data"
    }
   ],
   "source": [
    "display(df_scores)\n",
    "# отобразим результаты на графике\n",
    "fig, axes = plt.subplots(1, 3, figsize=(15, 5))\n",
    "sns.lineplot(x='C', y='Log Loss', data=df_scores, ax=axes[0])\n",
    "sns.lineplot(x='C', y='ROC AUC', data=df_scores, ax=axes[1])\n",
    "sns.lineplot(x='C', y='V_cips', data=df_scores, ax=axes[2])\n",
    "axes[0].set_title('Log Loss')\n",
    "axes[1].set_title('ROC AUC')\n",
    "axes[2].set_title('V_cipss')\n",
    "plt.show()"
   ]
  },
  {
   "cell_type": "markdown",
   "id": "020e14f3",
   "metadata": {},
   "source": [
    "#### Рассмотрим участок, где ${V}_{CIPS}$ достигает максимума"
   ]
  },
  {
   "cell_type": "code",
   "execution_count": 14,
   "id": "b0402a02",
   "metadata": {},
   "outputs": [
    {
     "data": {
      "text/html": [
       "<div>\n",
       "<style scoped>\n",
       "    .dataframe tbody tr th:only-of-type {\n",
       "        vertical-align: middle;\n",
       "    }\n",
       "\n",
       "    .dataframe tbody tr th {\n",
       "        vertical-align: top;\n",
       "    }\n",
       "\n",
       "    .dataframe thead th {\n",
       "        text-align: right;\n",
       "    }\n",
       "</style>\n",
       "<table border=\"1\" class=\"dataframe\">\n",
       "  <thead>\n",
       "    <tr style=\"text-align: right;\">\n",
       "      <th></th>\n",
       "      <th>C</th>\n",
       "      <th>Log Loss</th>\n",
       "      <th>ROC AUC</th>\n",
       "      <th>V_cips</th>\n",
       "    </tr>\n",
       "  </thead>\n",
       "  <tbody>\n",
       "    <tr>\n",
       "      <th>0</th>\n",
       "      <td>0.00001</td>\n",
       "      <td>0.156187</td>\n",
       "      <td>0.648148</td>\n",
       "      <td>0.074581</td>\n",
       "    </tr>\n",
       "    <tr>\n",
       "      <th>1</th>\n",
       "      <td>0.00005</td>\n",
       "      <td>0.145807</td>\n",
       "      <td>0.736222</td>\n",
       "      <td>0.075224</td>\n",
       "    </tr>\n",
       "    <tr>\n",
       "      <th>2</th>\n",
       "      <td>0.00010</td>\n",
       "      <td>0.143102</td>\n",
       "      <td>0.751747</td>\n",
       "      <td>0.075557</td>\n",
       "    </tr>\n",
       "    <tr>\n",
       "      <th>3</th>\n",
       "      <td>0.00015</td>\n",
       "      <td>0.141846</td>\n",
       "      <td>0.758107</td>\n",
       "      <td>0.075596</td>\n",
       "    </tr>\n",
       "    <tr>\n",
       "      <th>4</th>\n",
       "      <td>0.00100</td>\n",
       "      <td>0.138141</td>\n",
       "      <td>0.780017</td>\n",
       "      <td>0.072202</td>\n",
       "    </tr>\n",
       "  </tbody>\n",
       "</table>\n",
       "</div>"
      ],
      "text/plain": [
       "         C  Log Loss   ROC AUC    V_cips\n",
       "0  0.00001  0.156187  0.648148  0.074581\n",
       "1  0.00005  0.145807  0.736222  0.075224\n",
       "2  0.00010  0.143102  0.751747  0.075557\n",
       "3  0.00015  0.141846  0.758107  0.075596\n",
       "4  0.00100  0.138141  0.780017  0.072202"
      ]
     },
     "metadata": {},
     "output_type": "display_data"
    },
    {
     "data": {
      "image/png": "[encoded data removed]",
      "text/plain": [
       "<Figure size 1080x360 with 3 Axes>"
      ]
     },
     "metadata": {
      "needs_background": "light"
     },
     "output_type": "display_data"
    }
   ],
   "source": [
    "df_scores_new = df_scores.loc[0:4]\n",
    "display(df_scores_new)\n",
    "fig, axes = plt.subplots(1, 3, figsize=(15, 5))\n",
    "sns.lineplot(x='C', y='Log Loss', data=df_scores_new, ax=axes[0])\n",
    "sns.lineplot(x='C', y='ROC AUC', data=df_scores_new, ax=axes[1])\n",
    "sns.lineplot(x='C', y='V_cips', data=df_scores_new, ax=axes[2])\n",
    "axes[0].set_title('Log Loss')\n",
    "axes[1].set_title('ROC AUC')\n",
    "axes[2].set_title('V_cipss')\n",
    "plt.show()"
   ]
  },
  {
   "cell_type": "markdown",
   "id": "68d7358c",
   "metadata": {},
   "source": [
    "Таким образом, получаем максимальное значение $\\hat{V}_{CIPS} =  0.075596 $  при регуляризационном коэффициенте $C = 0.00015$"
   ]
  },
  {
   "cell_type": "code",
   "execution_count": null,
   "id": "35eb12d4",
   "metadata": {},
   "outputs": [],
   "source": []
  }
 ],
 "metadata": {
  "kernelspec": {
   "display_name": "Python 3 (ipykernel)",
   "language": "python",
   "name": "python3"
  },
  "language_info": {
   "codemirror_mode": {
    "name": "ipython",
    "version": 3
   },
   "file_extension": ".py",
   "mimetype": "text/x-python",
   "name": "python",
   "nbconvert_exporter": "python",
   "pygments_lexer": "ipython3",
   "version": "3.9.7"
  }
 },
 "nbformat": 4,
 "nbformat_minor": 5
}
